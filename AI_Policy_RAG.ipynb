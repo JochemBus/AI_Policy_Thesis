{
 "cells": [
  {
   "cell_type": "code",
   "execution_count": 5,
   "metadata": {},
   "outputs": [
    {
     "data": {
      "text/plain": [
       "True"
      ]
     },
     "execution_count": 5,
     "metadata": {},
     "output_type": "execute_result"
    }
   ],
   "source": [
    "import pandas as pd\n",
    "import json\n",
    "import os\n",
    "\n",
    "import numpy as np\n",
    "import faiss\n",
    "from langchain.docstore.document import Document\n",
    "from langchain.document_loaders import JSONLoader\n",
    "from langchain.embeddings import HuggingFaceEmbeddings\n",
    "from langchain.vectorstores import FAISS\n",
    "from langchain.llms import OpenAI\n",
    "\n",
    "from dotenv import load_dotenv\n",
    "\n",
    "load_dotenv()"
   ]
  },
  {
   "cell_type": "code",
   "execution_count": 6,
   "metadata": {},
   "outputs": [
    {
     "name": "stdout",
     "output_type": "stream",
     "text": [
      "Loaded 5647 documents.\n",
      "page_content='Country: USA\n",
      "Document number: 2\n",
      "Most Prevalent Bias: Confirmation bias' metadata={'type': 'bias type', 'Prevalence Score': 0.4346623644, 'Mean Similarity Score': 0.2948431373, 'Bias Frequency': 5, 'Mean BLEU Score': 1.2374582985, 'source': 'RAG_data/document_metrics.json'}\n"
     ]
    }
   ],
   "source": [
    "def load_bias_terms(file_path: str) -> list[Document]:\n",
    "\n",
    "    with open(file_path, 'r', encoding='utf-8') as f:\n",
    "        data = json.load(f)\n",
    "    \n",
    "    documents = []\n",
    "    for entry in data:\n",
    "        bias_type = entry.get(\"Bias_Type\", \"Unknown Bias\")\n",
    "        description = entry.get(\"Description\", \"\")\n",
    "        content = f\"Bias: {bias_type}\\nDescription: {description}\"\n",
    "        documents.append(Document(page_content=content, metadata={\"type\":\"definition\", \"source\": file_path}))\n",
    "    \n",
    "    return documents\n",
    "\n",
    "def load_document_text(file_path: str) -> list[Document]:\n",
    "    \n",
    "    with open(file_path, 'r', encoding='utf-8') as f:\n",
    "        data = json.load(f)\n",
    "    documents = []\n",
    "    for entry in data:\n",
    "        country = entry.get(\"Country\", \"Unknown country\")\n",
    "        doc_nr = entry.get(\"Document_nr\", \"\")\n",
    "        text_chunk = entry.get(\"Text\", \"\")\n",
    "        content = f\"Country: {country}\\nDocument number: {doc_nr}\\nSentence: {text_chunk}\"\n",
    "        documents.append(Document(page_content=content, metadata={\"type\":\"text\", \"source\": file_path}))\n",
    "    return documents\n",
    "\n",
    "def load_document_metrics(file_path: str) -> list[Document]:\n",
    "    \n",
    "    with open(file_path, 'r', encoding='utf-8') as f:\n",
    "        data = json.load(f)\n",
    "    documents = []\n",
    "    for entry in data:\n",
    "        country = entry.get(\"Country\", \"Unknown country\")\n",
    "        doc_nr = entry.get(\"Document_nr\", \"\")\n",
    "        bias_type = entry.get(\"Most Prevalent Bias\", \"\")\n",
    "        content = f\"Country: {country}\\nDocument number: {doc_nr}\\nMost Prevalent Bias: {bias_type}\"\n",
    "\n",
    "        prevalence_score = entry.get(\"Prevalence Score\", \"\")\n",
    "        mean_similarity_score = entry.get(\"Mean Similarity Score\", \"\")\n",
    "        bias_frequency = entry.get(\"Bias Frequency\", \"\")\n",
    "        mean_BLEU_score = entry.get(\"Mean BLEU Score\", \"\")\n",
    "        metadata = {\"type\":\"bias type\", \"Prevalence Score\":prevalence_score, \"Mean Similarity Score\":mean_similarity_score, \"Bias Frequency\":bias_frequency, \n",
    "                    \"Mean BLEU Score\":mean_BLEU_score, \"source\": file_path}\n",
    "\n",
    "        documents.append(Document(page_content=content, metadata=metadata))\n",
    "    return documents\n",
    "\n",
    "\n",
    "bias_documents = load_bias_terms(\"RAG_data/bias_terms.json\")\n",
    "text_documents = load_document_text(\"RAG_data/documents_text.json\")\n",
    "document_metrics = load_document_metrics(\"RAG_data/document_metrics.json\")\n",
    "\n",
    "documents = bias_documents + text_documents + document_metrics\n",
    "print(f\"Loaded {len(documents)} documents.\")\n",
    "print(documents[5643])"
   ]
  },
  {
   "cell_type": "code",
   "execution_count": 10,
   "metadata": {},
   "outputs": [],
   "source": [
    "import os\n",
    "from langchain.embeddings import HuggingFaceEmbeddings\n",
    "from langchain.vectorstores import FAISS\n",
    "from langchain.chains import RetrievalQA\n",
    "from langchain_openai import ChatOpenAI  # Updated import\n",
    "\n",
    "# Initialize embeddings\n",
    "embeddings = HuggingFaceEmbeddings(model_name=\"sentence-transformers/paraphrase-multilingual-MiniLM-L12-v2\")\n",
    "\n",
    "# Create a FAISS vector store from the documents\n",
    "vectorstore = FAISS.from_documents(documents, embeddings)\n",
    "\n",
    "# Create a retriever with the top-3 most similar documents\n",
    "retriever = vectorstore.as_retriever(search_kwargs={\"k\": 3})\n",
    "\n",
    "# gpt-4o-2024-08-06\n",
    "# Initialize your LLM using the updated ChatOpenAI for chat-based models\n",
    "llm = ChatOpenAI(temperature=0, model_name=\"gpt-4o-2024-08-06\", openai_api_key=os.environ[\"OPENAI_API_KEY\"])\n",
    "\n",
    "# Build the RetrievalQA (RAG) chain\n",
    "qa_chain = RetrievalQA.from_chain_type(llm, chain_type=\"stuff\", retriever=retriever)\n"
   ]
  },
  {
   "cell_type": "code",
   "execution_count": 8,
   "metadata": {},
   "outputs": [
    {
     "name": "stdout",
     "output_type": "stream",
     "text": [
      "{'query': 'What is the description of Confirmation bias?', 'result': 'Confirmation bias is the search for and use of information to support an individual’s ideas, beliefs, or hypotheses.'}\n"
     ]
    }
   ],
   "source": [
    "# Query the RAG system using the invoke method\n",
    "query = \"What is the description of Confirmation bias?\"\n",
    "result = qa_chain.invoke(query)\n",
    "print(result)"
   ]
  },
  {
   "cell_type": "code",
   "execution_count": 9,
   "metadata": {},
   "outputs": [
    {
     "name": "stdout",
     "output_type": "stream",
     "text": [
      "{'query': 'What is the most prevalent bias from USA documents? explain why', 'result': \"The most prevalent bias in USA documents varies depending on the specific document. Document number 3 shows information bias, document number 5 exhibits reporting biases, and document number 2 displays confirmation bias. Each bias type influences the information presented in the document in different ways. Information bias occurs when there are errors in the data collection or measurement process, leading to inaccurate or incomplete information. Reporting biases involve selective reporting or distortion of information, skewing the overall presentation of facts. Confirmation bias refers to the tendency to search for, interpret, or remember information in a way that confirms one's preexisting beliefs or hypotheses. These biases can impact the accuracy and objectivity of the information presented in the documents from the USA.\"}\n"
     ]
    }
   ],
   "source": [
    "# Query the RAG system using the invoke method\n",
    "query = \"What is the most prevalent bias from USA documents? explain why\"\n",
    "result = qa_chain.invoke(query)\n",
    "print(result)"
   ]
  },
  {
   "cell_type": "code",
   "execution_count": null,
   "metadata": {},
   "outputs": [],
   "source": []
  },
  {
   "cell_type": "code",
   "execution_count": 11,
   "metadata": {},
   "outputs": [
    {
     "name": "stdout",
     "output_type": "stream",
     "text": [
      "{'query': 'What is the description of Confirmation bias?', 'result': 'The description of Confirmation bias is the search for and use of information to support an individual’s ideas, beliefs, or hypotheses.'}\n"
     ]
    }
   ],
   "source": [
    "# Query the RAG system using the invoke method\n",
    "query = \"What is the description of Confirmation bias?\"\n",
    "result = qa_chain.invoke(query)\n",
    "print(result)"
   ]
  },
  {
   "cell_type": "code",
   "execution_count": 12,
   "metadata": {},
   "outputs": [
    {
     "name": "stdout",
     "output_type": "stream",
     "text": [
      "{'query': 'What is the most prevalent bias from USA documents? explain why', 'result': \"The most prevalent biases from the USA documents provided are Information bias, Reporting biases, and Confirmation bias. Each document lists a different prevalent bias, so there isn't a single most prevalent bias across all documents. \\n\\n- Information bias occurs when there is a systematic error in the way data is collected, leading to inaccurate or misleading information.\\n- Reporting biases happen when certain outcomes or results are selectively reported, often based on their nature or direction, which can skew the understanding of the data.\\n- Confirmation bias is the tendency to search for, interpret, and remember information in a way that confirms one's preexisting beliefs or hypotheses.\\n\\nWithout additional context or data, it's not possible to determine which of these biases is the most prevalent overall in USA documents.\"}\n"
     ]
    }
   ],
   "source": [
    "# Query the RAG system using the invoke method\n",
    "query = \"What is the most prevalent bias from USA documents? explain why\"\n",
    "result = qa_chain.invoke(query)\n",
    "print(result)"
   ]
  },
  {
   "cell_type": "code",
   "execution_count": null,
   "metadata": {},
   "outputs": [],
   "source": []
  },
  {
   "cell_type": "code",
   "execution_count": null,
   "metadata": {},
   "outputs": [],
   "source": []
  },
  {
   "cell_type": "code",
   "execution_count": null,
   "metadata": {},
   "outputs": [],
   "source": []
  },
  {
   "cell_type": "code",
   "execution_count": null,
   "metadata": {},
   "outputs": [],
   "source": []
  },
  {
   "cell_type": "code",
   "execution_count": null,
   "metadata": {},
   "outputs": [],
   "source": []
  },
  {
   "cell_type": "code",
   "execution_count": null,
   "metadata": {},
   "outputs": [],
   "source": []
  }
 ],
 "metadata": {
  "kernelspec": {
   "display_name": "venv",
   "language": "python",
   "name": "python3"
  },
  "language_info": {
   "codemirror_mode": {
    "name": "ipython",
    "version": 3
   },
   "file_extension": ".py",
   "mimetype": "text/x-python",
   "name": "python",
   "nbconvert_exporter": "python",
   "pygments_lexer": "ipython3",
   "version": "3.12.4"
  }
 },
 "nbformat": 4,
 "nbformat_minor": 2
}
