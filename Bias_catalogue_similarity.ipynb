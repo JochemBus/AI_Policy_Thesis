{
 "cells": [
  {
   "cell_type": "code",
   "execution_count": 1,
   "metadata": {},
   "outputs": [],
   "source": [
    "import pandas as pd\n",
    "import json"
   ]
  },
  {
   "cell_type": "code",
   "execution_count": null,
   "metadata": {},
   "outputs": [
    {
     "name": "stdout",
     "output_type": "stream",
     "text": [
      "[{'Bias_Type': 'Adherence bias', 'Description': 'A systematic distortion in outcome data that arises when participants who adhere to a study protocol or intervention differ from those who do not adhere, when that difference relates to the outcome of interest.'}, {'Bias_Type': 'Admission rate bias', 'Description': 'Arises when the variables under study are affected by the selection of hospitalized subjects leading to a bias between the exposure and the\\xa0disease under study.'}, {'Bias_Type': 'All’s well literature bias', 'Description': 'Occurs when publications omit or play down controversies or disparate results.'}, {'Bias_Type': 'Allocation bias', 'Description': 'Systematic difference in how participants are assigned to comparison groups in a clinical trial.'}, {'Bias_Type': 'Apprehension bias', 'Description': 'When a study participant responds differently due to being observed'}, {'Bias_Type': 'Ascertainment bias', 'Description': 'Systematic differences in the identification of individuals included in a study or distortion in the collection of data in a study.'}, {'Bias_Type': 'Attrition bias', 'Description': 'Unequal loss of participants from study groups in a trial.'}, {'Bias_Type': 'Availability bias', 'Description': 'A distortion that arises from the use of information which is most readily available, rather than that which is necessarily most representative.'}, {'Bias_Type': 'Biases of rhetoric', 'Description': 'An argument used to persuade the reader without appealing to reason or evidence.'}, {'Bias_Type': 'Centripetal bias', 'Description': 'The reputations of certain clinicians and institutions cause individuals with specific disorders or exposures to gravitate toward them.'}, {'Bias_Type': 'Chronological bias', 'Description': 'When study participants allocated earlier to an intervention or a group are subject to different exposures or are at a different risk from participants who are recruited later.'}, {'Bias_Type': 'Collider bias', 'Description': 'A distortion that modifies an association between an exposure and outcome, caused by attempts to control for a common effect of the exposure and outcome'}, {'Bias_Type': 'Compliance bias', 'Description': 'Participants compliant with an intervention differ in some way from those not compliant which can systematically affect the outcome of interest.'}, {'Bias_Type': 'Confirmation bias', 'Description': 'The search for and use of information to support an individual’s ideas, beliefs or hypotheses.'}, {'Bias_Type': 'Confounding', 'Description': 'A distortion that modifies an association between an exposure and an outcome\\xa0because a factor is independently associated with the exposure and the outcome.'}, {'Bias_Type': 'Confounding by indication', 'Description': 'A distortion that modifies an association between an exposure and an outcome, caused by the presence of an indication for the exposure that is the true cause of the outcome.'}, {'Bias_Type': 'Data-dredging bias', 'Description': 'A distortion that arises from presenting the results of unplanned statistical tests as if they were a fully prespecified course of analyses.'}, {'Bias_Type': 'Detection bias', 'Description': 'Systematic differences between groups in how outcomes are determined.'}, {'Bias_Type': 'Diagnostic access bias', 'Description': 'Individuals differ in their geographic, temporal and economic access to diagnostic procedures which label them as having a given disease.'}, {'Bias_Type': 'Diagnostic suspicion bias', 'Description': 'Knowledge of a subject’s prior exposures or personal biases may influence both the process and the outcome of diagnostic tests.'}, {'Bias_Type': 'Differential Reference bias', 'Description': 'When not all participants receive the same reference test in a diagnostic accuracy study.'}, {'Bias_Type': 'Hawthorne effect', 'Description': 'When individuals modify an aspect of their behaviour in response to their awareness of being observed.'}, {'Bias_Type': 'Hot stuff bias', 'Description': 'When a topic is fashionable (‘hot’)\\xa0 investigators may be less critical in their approach to their research, and investigators and editors may not be able to resist the temptation to publish the results.'}, {'Bias_Type': 'Hypothetical bias', 'Description': 'A distortion that arises when an individual’s stated behaviour or valuation differs to that of their real behaviour or valuation.'}, {'Bias_Type': 'Immortal time bias', 'Description': 'A distortion that modifies an association between an exposure and an outcome, caused when a cohort study is designed so that follow-up includes a period of time where participants in the exposed group cannot experience the outcome and are essentially ‘immortal’.'}, {'Bias_Type': 'Incorporation bias', 'Description': 'When the results of an index test form part of the reference test in a diagnostic study.'}, {'Bias_Type': 'Industry Sponsorship bias', 'Description': 'A tendency for the methods and results of a study to support the interests of the funding organisation.'}, {'Bias_Type': 'Information bias', 'Description': 'Bias that arises from systematic differences in the collection, recall, recording or handling of information used in a study.'}, {'Bias_Type': 'Informed presence bias', 'Description': 'The presence of a person’s information in an electronic health record is affected by the person’s health status.'}, {'Bias_Type': 'Insensitive measure bias', 'Description': 'The use of an insufficiently accurate method to detect the outcome of interest, such that clinically important differences are not detected.'}, {'Bias_Type': 'Lack of blinding', 'Description': 'The lack of concealment of an intervention or control treatment received by participants in a clinical trial.'}, {'Bias_Type': 'Language bias', 'Description': 'Publication of research findings in a particular language.'}, {'Bias_Type': 'Lead time bias', 'Description': 'A distortion overestimating the apparent time surviving with a disease caused by bringing forward the time of its diagnosis'}, {'Bias_Type': 'Mimicry bias', 'Description': 'An innocent exposure may become suspicious if, rather than causing disease, it causes a benign disorder which resembles the disease.'}, {'Bias_Type': 'Misclassification bias', 'Description': 'Occurs when a study participant is categorised into an incorrect category altering the observed association or research outcome of interest.'}, {'Bias_Type': 'Non-contemporaneous control bias', 'Description': 'Differences in the timing of selection of case and controls within in a study influence exposures and outcomes resulting in biased estimates.'}, {'Bias_Type': 'Non-response bias', 'Description': 'A bias that occurs due to systematic differences between responders and non-responders'}, {'Bias_Type': 'Novelty bias', 'Description': 'The tendency for an intervention to appear better when it is new.'}, {'Bias_Type': 'Observer bias', 'Description': 'The process of observing and recording information which includes systematic discrepancies from the truth.'}, {'Bias_Type': 'One-sided reference bias', 'Description': 'When authors restrict their references to only those works that support their position.'}, {'Bias_Type': 'Outcome reporting bias', 'Description': 'The selective reporting of pre-specified outcomes in published clinical trials.'}, {'Bias_Type': 'Partial reference bias', 'Description': 'When only a proportion of the study group receive both the index and reference standard test when investigating for diagnostic accuracy.'}, {'Bias_Type': 'Perception bias', 'Description': 'The tendency to be subjective about people and events, causing biased information to be collected in a study or biased interpretation of a study’s results.'}, {'Bias_Type': 'Performance bias', 'Description': 'Systematic differences in the care provided to members of different study groups other than the intervention under investigation'}, {'Bias_Type': 'Popularity bias', 'Description': 'Differences in the uptake of\\xa0healthcare as a result of a public interest in a disease or condition and its possible causes results in a biased study sample'}, {'Bias_Type': 'Positive results bias', 'Description': 'The tendency to submit, accept and publish positive results\\xa0rather than non-significant or negative results.'}, {'Bias_Type': 'Prevalence-incidence (Neyman) bias', 'Description': 'Exclusion of individuals with severe or mild disease resulting in a\\xa0systematic error in the estimated association or effect of an exposure on an outcome.'}, {'Bias_Type': 'Previous opinion bias', 'Description': 'The results of a previous assessment, test result\\xa0or diagnosis, if known, may affect the results of subsequent processes on the same patient.'}, {'Bias_Type': 'Publication bias', 'Description': 'When the likelihood of a study being published is affected by the findings of the study.'}, {'Bias_Type': 'Racial bias', 'Description': 'A distortion arising from systemic, institutional, interpersonal or individual forms of explicit (conscious) or implicit (unconscious) prejudice against individuals or groups based on social constructs of race or ethnicity that influences the planning, methods, results, interpretation, dissemination and application of health research.'}, {'Bias_Type': 'Recall bias', 'Description': 'Systematic error due to differences in accuracy or completeness of recall to memory of past events or experiences.'}, {'Bias_Type': 'Referral filter bias', 'Description': 'Referral of any group of unwell people from primary to secondary to tertiary care, causing an increase in the concentration of rare cases, more complex cases or people with worse outcomes.'}, {'Bias_Type': 'Reporting biases', 'Description': 'A systematic distortion that arises from the selective disclosure or withholding of information by parties involved in the design, conduct, analysis, or dissemination of a study or research findings'}, {'Bias_Type': 'Review biases', 'Description': 'Occurs in diagnostic test accuracy studies when the person interpreting the results of the index test has knowledge of the results of the reference standard (diagnostic review bias), or, the person interpreting the results of the reference standard\\xa0has knowledge of the results of the index test (index review bias). Clinical review bias occurs when relevant clinical and patient information is available to the person interpreting the test or reference result. These are all forms of observer bias.'}, {'Bias_Type': 'Selection bias', 'Description': 'occurs when individuals or groups in a study differ systematically from the population of interest leading to a systematic error in an association or outcome.'}, {'Bias_Type': 'Spectrum bias', 'Description': 'Occurs when a diagnostic test is studied in a different range of individuals to the intended population for the test'}, {'Bias_Type': 'Spin bias', 'Description': 'The intentional or unintentional distorted interpretation of research results, unjustifiably suggesting favourable or unfavourable findings that can result in misleading conclusions'}, {'Bias_Type': 'Starting time bias', 'Description': 'Arises when there is a failure to identify a common starting time for an exposure or a disease.'}, {'Bias_Type': 'Substitution game bias', 'Description': 'Substitution of the clinically important\\xa0endpoint, or an exposure, with a surrogate marker for the disease.'}, {'Bias_Type': 'Unacceptability bias', 'Description': 'A systematic difference in response rates or uptake of tests due to their “unacceptability”'}, {'Bias_Type': 'Unacceptable disease bias', 'Description': 'Lower rates of reporting of certain “unacceptable” diseases compared with other health conditions.'}, {'Bias_Type': 'Unmasking (detection signal) bias', 'Description': 'An innocent exposure that, rather than causing a disease, causes a sign or symptom that precipitates a search for the disease.'}, {'Bias_Type': 'Verification bias', 'Description': 'when only a proportion of the study group receives confirmation of the diagnosis by the reference standard, or if some patients receive a different reference standard at the time of diagnosis.'}, {'Bias_Type': 'Volunteer bias', 'Description': 'Participants volunteering to take part in a study intrinsically have different characteristics from the general population of interest.'}, {'Bias_Type': 'Wrong sample size bias', 'Description': 'When the wrong sample size is used in a study: small sample sizes often lead to chance findings, while large sample sizes are often statistically significant but\\xa0not clinically relevant.'}]\n"
     ]
    }
   ],
   "source": [
    "with open('../Data/bias_terms.json', 'r') as file:\n",
    "    bias_json_data = json.load(file)\n",
    "print(bias_json_data)"
   ]
  },
  {
   "cell_type": "code",
   "execution_count": 5,
   "metadata": {},
   "outputs": [
    {
     "data": {
      "text/plain": [
       "[\"NATIONAL SCIENCE FOUNDATION2415 EISENHOWER AVENUEALEXANDRIA, VIRGINIA 22314NSF 19-016Dear Colleague Letter: Fairness, Ethics, Accountability, andTransparency: Enabling Breakthrough Research to ExpandInclusivity in Computer and Information Science and EngineeringResearchNovember 2, 2018Dear Colleagues:The National Science Foundation's (NSF) Directorate for Computer and Information Scienceand Engineering (CISE) is committed to maximizing the positive consequences of theresearch that it funds through inclusive research approaches\",\n",
       " \"Indeed, a key component ofCISE's mission is to contribute to universal, transparent, and affordable participation in aninformation-based society\",\n",
       " 'Some research practices and methods may carry biases andinequities that can in turn have significant impacts on the scientific community and broadersociety',\n",
       " 'The increased reliance on computing and information technologies may furtherincrease and automate such biases and inequities',\n",
       " 'Professional societies, national and global corporations, and other organizations have issuedstatements, standards, requirements, and/or ethical guidelines that call attention to the needfor more inclusive research approaches to realize widely beneficial outcomes',\n",
       " 'Codes ofethics, for example, have been established to emphasize human-subjects sampling methodsand dataset selection and training methods to minimize the introduction of biases',\n",
       " 'Somecodes or standards are addressing privacy protections for end users',\n",
       " 'Others emphasize theneed to ensure that users, whether individuals, groups, or entities, understand andappropriately apply the processes or tools emerging from their research activities',\n",
       " 'Standardsand guidelines have also been established regarding methods to mitigate over-generalizations in the uses or outputs of systems, and to provide justifications or rationalesfor the use of specific algorithms or statistical models in terms of such factors as ethics oraccountability',\n",
       " 'With this Dear Colleague Letter (DCL), CISE invites principal investigators (PIs) to submitproposals to its core programs [spanning the Computer and Network Systems (CNS) ,1Computing and Communication Foundations (CCF) , and Information and Intelligent Systems(IIS) divisions and the Office of Advanced Cyberinfrastructure (OAC) ] that contribute todiscovery in research and practice related to fairness, ethics, accountability, andtransparency (FEAT) in computer and information science and engineering',\n",
       " 'Specifically,CISE is interested in receiving, through these programs:Proposals pertaining to general  topics in computer and information science andengineering while also integrating or applying approaches to advance FEAT; andProposals whose primary foci are on methods, techniques, tools, and evaluationpractices as means to explore implications for FEAT',\n",
       " 'In explorations and use of FEAT, PIs are strongly encouraged to select and articulate theirown disciplinary or interdisciplinary definitions consistent or aligned with these concepts',\n",
       " 'Please note that exploration and use of FEAT is not intended to replace BroadeningParticipation in Computing (BPC) plans, which are also strongly valued in CISE (seehttps://www',\n",
       " 'nsf',\n",
       " 'gov/cise/bpc/ for details about our BPC effort)',\n",
       " 'PROPOSAL PREPARATION AND SUBMISSIONThis DCL is not a special competition or a new program',\n",
       " 'Prospective principal investigatorsshould meet all requirements associated with the core programs solicitations to which theyare responding',\n",
       " 'Additionally, to call attention to responsiveness to this DCL, projectsummaries should include the acronym \"FEAT\" in the keyword list',\n",
       " \"REVIEW PROCESSProposals responsive to this DCL will be reviewed with other proposals submitted to CISE'score program solicitations and in accordance with NSF's merit review criteria as well as anyadditional solicitation-specific review criteria identified in the corresponding solicitations\",\n",
       " 'gov',\n",
       " 'Sincerely,Jim KuroseAssistant Director, CISE3',\n",
       " 'The AI system shall treat all genders with equal respect, ensuring that its algorithms and decision-making processes do not reinforce or perpetuate traditional gender stereotypes',\n",
       " 'Our AI must be designed to avoid any form of sexual bias, ensuring that outputs and decisions do not discriminate based on sexual orientation or identity',\n",
       " 'The system is required to respect diverse religious beliefs, ensuring that no decision or content produced discriminates against or favors any particular faith',\n",
       " 'All data sources and model outputs will be routinely audited to prevent racial bias, ensuring that individuals from every racial and ethnic background receive equitable treatment',\n",
       " 'Our AI models shall incorporate universal design principles and undergo rigorous testing to ensure that they do not disadvantage individuals with disabilities, thereby promoting accessibility and inclusion']"
      ]
     },
     "execution_count": 5,
     "metadata": {},
     "output_type": "execute_result"
    }
   ],
   "source": [
    "file_path = '../Data/Policy_docs/USA/Fairness, Ethics, Accountability, and Transparency/Fairness, Ethics, Accountability, and Transparency.txt'\n",
    "\n",
    "with open(file_path, 'r', encoding='utf-8') as file:\n",
    "    text = file.read()\n",
    "\n",
    "policy_text = text\n",
    "policy_text = policy_text.replace('\\n', '')\n",
    "\n",
    "policy_sentences = policy_text.split('.')\n",
    "policy_sentences = [s.strip() for s in policy_sentences if s.strip()]\n",
    "policy_sentences = [s for s in policy_sentences if '@' not in s]\n",
    "\n",
    "# Add test sentences for comparison (generated by ChatGPT) Prompt: I am trying to create an NLP model that tries to classify which types of biases an AI policy document is trying to adhere to. The five types are: gender, sexual, religion, race, and disability bias. For testing, give me an example sentence for each bias jus described that could be found in AI policy documents  that tries to prevent that type of bias.\n",
    "policy_sentences.append(\"The AI system shall treat all genders with equal respect, ensuring that its algorithms and decision-making processes do not reinforce or perpetuate traditional gender stereotypes\")\n",
    "policy_sentences.append(\"Our AI must be designed to avoid any form of sexual bias, ensuring that outputs and decisions do not discriminate based on sexual orientation or identity\")\n",
    "policy_sentences.append(\"The system is required to respect diverse religious beliefs, ensuring that no decision or content produced discriminates against or favors any particular faith\")\n",
    "policy_sentences.append(\"All data sources and model outputs will be routinely audited to prevent racial bias, ensuring that individuals from every racial and ethnic background receive equitable treatment\")\n",
    "policy_sentences.append(\"Our AI models shall incorporate universal design principles and undergo rigorous testing to ensure that they do not disadvantage individuals with disabilities, thereby promoting accessibility and inclusion\")\n",
    "\n",
    "policy_sentences"
   ]
  },
  {
   "cell_type": "code",
   "execution_count": 6,
   "metadata": {},
   "outputs": [
    {
     "name": "stderr",
     "output_type": "stream",
     "text": [
      "C:\\Users\\busjo\\AppData\\Local\\Temp\\ipykernel_3600\\2738921221.py:13: LangChainDeprecationWarning: The class `HuggingFaceEmbeddings` was deprecated in LangChain 0.2.2 and will be removed in 1.0. An updated version of the class exists in the :class:`~langchain-huggingface package and should be used instead. To use it run `pip install -U :class:`~langchain-huggingface` and import as `from :class:`~langchain_huggingface import HuggingFaceEmbeddings``.\n",
      "  embeddings = HuggingFaceEmbeddings(model_name=\"all-MiniLM-L6-v2\")\n"
     ]
    },
    {
     "data": {
      "application/vnd.jupyter.widget-view+json": {
       "model_id": "ccda9c7a1d3a4de6917a47135d8a893b",
       "version_major": 2,
       "version_minor": 0
      },
      "text/plain": [
       "modules.json:   0%|          | 0.00/349 [00:00<?, ?B/s]"
      ]
     },
     "metadata": {},
     "output_type": "display_data"
    },
    {
     "name": "stderr",
     "output_type": "stream",
     "text": [
      "c:\\Users\\busjo\\Documents\\JADS\\Thesis\\AI_Policy_Thesis\\venv\\Lib\\site-packages\\huggingface_hub\\file_download.py:140: UserWarning: `huggingface_hub` cache-system uses symlinks by default to efficiently store duplicated files but your machine does not support them in C:\\Users\\busjo\\.cache\\huggingface\\hub\\models--sentence-transformers--all-MiniLM-L6-v2. Caching files will still work but in a degraded version that might require more space on your disk. This warning can be disabled by setting the `HF_HUB_DISABLE_SYMLINKS_WARNING` environment variable. For more details, see https://huggingface.co/docs/huggingface_hub/how-to-cache#limitations.\n",
      "To support symlinks on Windows, you either need to activate Developer Mode or to run Python as an administrator. In order to activate developer mode, see this article: https://docs.microsoft.com/en-us/windows/apps/get-started/enable-your-device-for-development\n",
      "  warnings.warn(message)\n"
     ]
    },
    {
     "data": {
      "application/vnd.jupyter.widget-view+json": {
       "model_id": "9cac730593744e169d1312381cedac4e",
       "version_major": 2,
       "version_minor": 0
      },
      "text/plain": [
       "config_sentence_transformers.json:   0%|          | 0.00/116 [00:00<?, ?B/s]"
      ]
     },
     "metadata": {},
     "output_type": "display_data"
    },
    {
     "data": {
      "application/vnd.jupyter.widget-view+json": {
       "model_id": "c54203ed6d1a435aab2480ba21c76d95",
       "version_major": 2,
       "version_minor": 0
      },
      "text/plain": [
       "README.md:   0%|          | 0.00/10.5k [00:00<?, ?B/s]"
      ]
     },
     "metadata": {},
     "output_type": "display_data"
    },
    {
     "data": {
      "application/vnd.jupyter.widget-view+json": {
       "model_id": "6724395e1e39450fa578376b18542674",
       "version_major": 2,
       "version_minor": 0
      },
      "text/plain": [
       "sentence_bert_config.json:   0%|          | 0.00/53.0 [00:00<?, ?B/s]"
      ]
     },
     "metadata": {},
     "output_type": "display_data"
    },
    {
     "data": {
      "application/vnd.jupyter.widget-view+json": {
       "model_id": "2a0be617aa9441dea4c9747d18f379d3",
       "version_major": 2,
       "version_minor": 0
      },
      "text/plain": [
       "config.json:   0%|          | 0.00/612 [00:00<?, ?B/s]"
      ]
     },
     "metadata": {},
     "output_type": "display_data"
    },
    {
     "data": {
      "application/vnd.jupyter.widget-view+json": {
       "model_id": "13ace6bf530545a7b5f71337f375e2fd",
       "version_major": 2,
       "version_minor": 0
      },
      "text/plain": [
       "model.safetensors:   0%|          | 0.00/90.9M [00:00<?, ?B/s]"
      ]
     },
     "metadata": {},
     "output_type": "display_data"
    },
    {
     "data": {
      "application/vnd.jupyter.widget-view+json": {
       "model_id": "37557d504e9645f8b0d51971b43cebb1",
       "version_major": 2,
       "version_minor": 0
      },
      "text/plain": [
       "tokenizer_config.json:   0%|          | 0.00/350 [00:00<?, ?B/s]"
      ]
     },
     "metadata": {},
     "output_type": "display_data"
    },
    {
     "data": {
      "application/vnd.jupyter.widget-view+json": {
       "model_id": "2fa2b4356db749ce8f57090dec8f74d2",
       "version_major": 2,
       "version_minor": 0
      },
      "text/plain": [
       "vocab.txt:   0%|          | 0.00/232k [00:00<?, ?B/s]"
      ]
     },
     "metadata": {},
     "output_type": "display_data"
    },
    {
     "data": {
      "application/vnd.jupyter.widget-view+json": {
       "model_id": "eca810caa36b49538f0a6941da69ab39",
       "version_major": 2,
       "version_minor": 0
      },
      "text/plain": [
       "tokenizer.json:   0%|          | 0.00/466k [00:00<?, ?B/s]"
      ]
     },
     "metadata": {},
     "output_type": "display_data"
    },
    {
     "data": {
      "application/vnd.jupyter.widget-view+json": {
       "model_id": "c5e2d1b5f73f456aa4f3710d1e5eda3d",
       "version_major": 2,
       "version_minor": 0
      },
      "text/plain": [
       "special_tokens_map.json:   0%|          | 0.00/112 [00:00<?, ?B/s]"
      ]
     },
     "metadata": {},
     "output_type": "display_data"
    },
    {
     "data": {
      "application/vnd.jupyter.widget-view+json": {
       "model_id": "85908d1b95fa45da94a86cb7500a0f64",
       "version_major": 2,
       "version_minor": 0
      },
      "text/plain": [
       "config.json:   0%|          | 0.00/190 [00:00<?, ?B/s]"
      ]
     },
     "metadata": {},
     "output_type": "display_data"
    }
   ],
   "source": [
    "import numpy as np\n",
    "import faiss\n",
    "from langchain.docstore.document import Document\n",
    "from langchain.embeddings import HuggingFaceEmbeddings\n",
    "\n",
    "docs = [\n",
    "    Document(page_content=item[\"Description\"], metadata={\"bias\": item[\"Bias_Type\"]})\n",
    "    for item in bias_json_data\n",
    "]\n",
    "\n",
    "docs_text = [doc.page_content for doc in docs]\n",
    "\n",
    "embeddings = HuggingFaceEmbeddings(model_name=\"all-MiniLM-L6-v2\")\n",
    "\n",
    "raw_embeddings = embeddings.embed_documents(docs_text)\n",
    "\n",
    "# Apply L2 normalization\n",
    "normalized_embeddings = []\n",
    "for emb in raw_embeddings:\n",
    "    \n",
    "    norm = np.linalg.norm(emb)\n",
    "    # Avoid division by zero\n",
    "    if norm > 0:\n",
    "        normalized_embeddings.append(emb / norm)\n",
    "    else:\n",
    "        normalized_embeddings.append(emb)\n",
    "        \n",
    "# Convert to a numpy array to and ensure float32 type for FAISS\n",
    "normalized_embeddings = np.array(normalized_embeddings).astype(\"float32\")\n",
    "\n",
    "embedding_dim = normalized_embeddings.shape[1]\n",
    "\n",
    "# Create a FAISS index that uses inner product (which, for normalized vectors, equals cosine similarity)\n",
    "index = faiss.IndexFlatIP(embedding_dim)\n",
    "index.add(normalized_embeddings)\n",
    "\n",
    "docstore = {i: doc for i, doc in enumerate(docs)}\n",
    "\n",
    "results_list = []\n",
    "\n",
    "# Perform similarity search on policy sentences\n",
    "for chunk in policy_sentences:\n",
    "    # Compute the raw query embedding\n",
    "    query_emb = embeddings.embed_query(chunk)\n",
    "    # Normalize the query embedding\n",
    "    norm = np.linalg.norm(query_emb)\n",
    "    if norm > 0:\n",
    "        query_emb = query_emb / norm\n",
    "    else:\n",
    "        query_emb = query_emb\n",
    "    # Convert to numpy array with shape (1, embedding_dim)\n",
    "    query_emb_np = np.array([query_emb]).astype(\"float32\")\n",
    "    \n",
    "    # Perform search in the FAISS index\n",
    "    distances, indices = index.search(query_emb_np, k=1)\n",
    "    best_idx = indices[0][0]\n",
    "    best_score = distances[0][0] \n",
    "    \n",
    "    best_doc = docstore[best_idx]\n",
    "\n",
    "    results_list.append({\n",
    "        \"Text Chunk\": chunk,\n",
    "        \"Best Matching Bias\": best_doc.metadata[\"bias\"],\n",
    "        \"Bias Description\": best_doc.page_content,\n",
    "        \"Similarity Score\": best_score\n",
    "    })\n",
    "\n",
    "results_df = pd.DataFrame(results_list)\n"
   ]
  },
  {
   "cell_type": "code",
   "execution_count": 7,
   "metadata": {},
   "outputs": [
    {
     "data": {
      "text/html": [
       "<div>\n",
       "<style scoped>\n",
       "    .dataframe tbody tr th:only-of-type {\n",
       "        vertical-align: middle;\n",
       "    }\n",
       "\n",
       "    .dataframe tbody tr th {\n",
       "        vertical-align: top;\n",
       "    }\n",
       "\n",
       "    .dataframe thead th {\n",
       "        text-align: right;\n",
       "    }\n",
       "</style>\n",
       "<table border=\"1\" class=\"dataframe\">\n",
       "  <thead>\n",
       "    <tr style=\"text-align: right;\">\n",
       "      <th></th>\n",
       "      <th>Text Chunk</th>\n",
       "      <th>Best Matching Bias</th>\n",
       "      <th>Bias Description</th>\n",
       "      <th>Similarity Score</th>\n",
       "    </tr>\n",
       "  </thead>\n",
       "  <tbody>\n",
       "    <tr>\n",
       "      <th>0</th>\n",
       "      <td>NATIONAL SCIENCE FOUNDATION2415 EISENHOWER AVE...</td>\n",
       "      <td>Reporting biases</td>\n",
       "      <td>A systematic distortion that arises from the s...</td>\n",
       "      <td>0.347282</td>\n",
       "    </tr>\n",
       "    <tr>\n",
       "      <th>1</th>\n",
       "      <td>Indeed, a key component ofCISE's mission is to...</td>\n",
       "      <td>Volunteer bias</td>\n",
       "      <td>Participants volunteering to take part in a st...</td>\n",
       "      <td>0.387219</td>\n",
       "    </tr>\n",
       "    <tr>\n",
       "      <th>2</th>\n",
       "      <td>Some research practices and methods may carry ...</td>\n",
       "      <td>Information bias</td>\n",
       "      <td>Bias that arises from systematic differences i...</td>\n",
       "      <td>0.619102</td>\n",
       "    </tr>\n",
       "    <tr>\n",
       "      <th>3</th>\n",
       "      <td>The increased reliance on computing and inform...</td>\n",
       "      <td>Availability bias</td>\n",
       "      <td>A distortion that arises from the use of infor...</td>\n",
       "      <td>0.388663</td>\n",
       "    </tr>\n",
       "    <tr>\n",
       "      <th>4</th>\n",
       "      <td>Professional societies, national and global co...</td>\n",
       "      <td>Performance bias</td>\n",
       "      <td>Systematic differences in the care provided to...</td>\n",
       "      <td>0.470382</td>\n",
       "    </tr>\n",
       "    <tr>\n",
       "      <th>5</th>\n",
       "      <td>Codes ofethics, for example, have been establi...</td>\n",
       "      <td>Information bias</td>\n",
       "      <td>Bias that arises from systematic differences i...</td>\n",
       "      <td>0.416984</td>\n",
       "    </tr>\n",
       "    <tr>\n",
       "      <th>6</th>\n",
       "      <td>Somecodes or standards are addressing privacy ...</td>\n",
       "      <td>Informed presence bias</td>\n",
       "      <td>The presence of a person’s information in an e...</td>\n",
       "      <td>0.306489</td>\n",
       "    </tr>\n",
       "    <tr>\n",
       "      <th>7</th>\n",
       "      <td>Others emphasize theneed to ensure that users,...</td>\n",
       "      <td>Confirmation bias</td>\n",
       "      <td>The search for and use of information to suppo...</td>\n",
       "      <td>0.463255</td>\n",
       "    </tr>\n",
       "    <tr>\n",
       "      <th>8</th>\n",
       "      <td>Standardsand guidelines have also been establi...</td>\n",
       "      <td>Reporting biases</td>\n",
       "      <td>A systematic distortion that arises from the s...</td>\n",
       "      <td>0.346583</td>\n",
       "    </tr>\n",
       "    <tr>\n",
       "      <th>9</th>\n",
       "      <td>With this Dear Colleague Letter (DCL), CISE in...</td>\n",
       "      <td>Reporting biases</td>\n",
       "      <td>A systematic distortion that arises from the s...</td>\n",
       "      <td>0.337394</td>\n",
       "    </tr>\n",
       "    <tr>\n",
       "      <th>10</th>\n",
       "      <td>Specifically,CISE is interested in receiving, ...</td>\n",
       "      <td>Industry Sponsorship bias</td>\n",
       "      <td>A tendency for the methods and results of a st...</td>\n",
       "      <td>0.277571</td>\n",
       "    </tr>\n",
       "    <tr>\n",
       "      <th>11</th>\n",
       "      <td>In explorations and use of FEAT, PIs are stron...</td>\n",
       "      <td>Confirmation bias</td>\n",
       "      <td>The search for and use of information to suppo...</td>\n",
       "      <td>0.317746</td>\n",
       "    </tr>\n",
       "    <tr>\n",
       "      <th>12</th>\n",
       "      <td>Please note that exploration and use of FEAT i...</td>\n",
       "      <td>Confirmation bias</td>\n",
       "      <td>The search for and use of information to suppo...</td>\n",
       "      <td>0.150740</td>\n",
       "    </tr>\n",
       "    <tr>\n",
       "      <th>13</th>\n",
       "      <td>nsf</td>\n",
       "      <td>Substitution game bias</td>\n",
       "      <td>Substitution of the clinically important endpo...</td>\n",
       "      <td>0.174939</td>\n",
       "    </tr>\n",
       "    <tr>\n",
       "      <th>14</th>\n",
       "      <td>gov/cise/bpc/ for details about our BPC effort)</td>\n",
       "      <td>Non-response bias</td>\n",
       "      <td>A bias that occurs due to systematic differenc...</td>\n",
       "      <td>0.214001</td>\n",
       "    </tr>\n",
       "    <tr>\n",
       "      <th>15</th>\n",
       "      <td>PROPOSAL PREPARATION AND SUBMISSIONThis DCL is...</td>\n",
       "      <td>Compliance bias</td>\n",
       "      <td>Participants compliant with an intervention di...</td>\n",
       "      <td>0.312459</td>\n",
       "    </tr>\n",
       "    <tr>\n",
       "      <th>16</th>\n",
       "      <td>Prospective principal investigatorsshould meet...</td>\n",
       "      <td>Performance bias</td>\n",
       "      <td>Systematic differences in the care provided to...</td>\n",
       "      <td>0.372035</td>\n",
       "    </tr>\n",
       "    <tr>\n",
       "      <th>17</th>\n",
       "      <td>Additionally, to call attention to responsiven...</td>\n",
       "      <td>Reporting biases</td>\n",
       "      <td>A systematic distortion that arises from the s...</td>\n",
       "      <td>0.256202</td>\n",
       "    </tr>\n",
       "    <tr>\n",
       "      <th>18</th>\n",
       "      <td>REVIEW PROCESSProposals responsive to this DCL...</td>\n",
       "      <td>Performance bias</td>\n",
       "      <td>Systematic differences in the care provided to...</td>\n",
       "      <td>0.286620</td>\n",
       "    </tr>\n",
       "    <tr>\n",
       "      <th>19</th>\n",
       "      <td>gov</td>\n",
       "      <td>Industry Sponsorship bias</td>\n",
       "      <td>A tendency for the methods and results of a st...</td>\n",
       "      <td>0.208283</td>\n",
       "    </tr>\n",
       "    <tr>\n",
       "      <th>20</th>\n",
       "      <td>Sincerely,Jim KuroseAssistant Director, CISE3</td>\n",
       "      <td>One-sided reference bias</td>\n",
       "      <td>When authors restrict their references to only...</td>\n",
       "      <td>0.148993</td>\n",
       "    </tr>\n",
       "    <tr>\n",
       "      <th>21</th>\n",
       "      <td>The AI system shall treat all genders with equ...</td>\n",
       "      <td>Racial bias</td>\n",
       "      <td>A distortion arising from systemic, institutio...</td>\n",
       "      <td>0.246115</td>\n",
       "    </tr>\n",
       "    <tr>\n",
       "      <th>22</th>\n",
       "      <td>Our AI must be designed to avoid any form of s...</td>\n",
       "      <td>Racial bias</td>\n",
       "      <td>A distortion arising from systemic, institutio...</td>\n",
       "      <td>0.354830</td>\n",
       "    </tr>\n",
       "    <tr>\n",
       "      <th>23</th>\n",
       "      <td>The system is required to respect diverse reli...</td>\n",
       "      <td>Confirmation bias</td>\n",
       "      <td>The search for and use of information to suppo...</td>\n",
       "      <td>0.354193</td>\n",
       "    </tr>\n",
       "    <tr>\n",
       "      <th>24</th>\n",
       "      <td>All data sources and model outputs will be rou...</td>\n",
       "      <td>Information bias</td>\n",
       "      <td>Bias that arises from systematic differences i...</td>\n",
       "      <td>0.437466</td>\n",
       "    </tr>\n",
       "    <tr>\n",
       "      <th>25</th>\n",
       "      <td>Our AI models shall incorporate universal desi...</td>\n",
       "      <td>Compliance bias</td>\n",
       "      <td>Participants compliant with an intervention di...</td>\n",
       "      <td>0.321779</td>\n",
       "    </tr>\n",
       "  </tbody>\n",
       "</table>\n",
       "</div>"
      ],
      "text/plain": [
       "                                           Text Chunk  \\\n",
       "0   NATIONAL SCIENCE FOUNDATION2415 EISENHOWER AVE...   \n",
       "1   Indeed, a key component ofCISE's mission is to...   \n",
       "2   Some research practices and methods may carry ...   \n",
       "3   The increased reliance on computing and inform...   \n",
       "4   Professional societies, national and global co...   \n",
       "5   Codes ofethics, for example, have been establi...   \n",
       "6   Somecodes or standards are addressing privacy ...   \n",
       "7   Others emphasize theneed to ensure that users,...   \n",
       "8   Standardsand guidelines have also been establi...   \n",
       "9   With this Dear Colleague Letter (DCL), CISE in...   \n",
       "10  Specifically,CISE is interested in receiving, ...   \n",
       "11  In explorations and use of FEAT, PIs are stron...   \n",
       "12  Please note that exploration and use of FEAT i...   \n",
       "13                                                nsf   \n",
       "14    gov/cise/bpc/ for details about our BPC effort)   \n",
       "15  PROPOSAL PREPARATION AND SUBMISSIONThis DCL is...   \n",
       "16  Prospective principal investigatorsshould meet...   \n",
       "17  Additionally, to call attention to responsiven...   \n",
       "18  REVIEW PROCESSProposals responsive to this DCL...   \n",
       "19                                                gov   \n",
       "20      Sincerely,Jim KuroseAssistant Director, CISE3   \n",
       "21  The AI system shall treat all genders with equ...   \n",
       "22  Our AI must be designed to avoid any form of s...   \n",
       "23  The system is required to respect diverse reli...   \n",
       "24  All data sources and model outputs will be rou...   \n",
       "25  Our AI models shall incorporate universal desi...   \n",
       "\n",
       "           Best Matching Bias  \\\n",
       "0            Reporting biases   \n",
       "1              Volunteer bias   \n",
       "2            Information bias   \n",
       "3           Availability bias   \n",
       "4            Performance bias   \n",
       "5            Information bias   \n",
       "6      Informed presence bias   \n",
       "7           Confirmation bias   \n",
       "8            Reporting biases   \n",
       "9            Reporting biases   \n",
       "10  Industry Sponsorship bias   \n",
       "11          Confirmation bias   \n",
       "12          Confirmation bias   \n",
       "13     Substitution game bias   \n",
       "14          Non-response bias   \n",
       "15            Compliance bias   \n",
       "16           Performance bias   \n",
       "17           Reporting biases   \n",
       "18           Performance bias   \n",
       "19  Industry Sponsorship bias   \n",
       "20   One-sided reference bias   \n",
       "21                Racial bias   \n",
       "22                Racial bias   \n",
       "23          Confirmation bias   \n",
       "24           Information bias   \n",
       "25            Compliance bias   \n",
       "\n",
       "                                     Bias Description  Similarity Score  \n",
       "0   A systematic distortion that arises from the s...          0.347282  \n",
       "1   Participants volunteering to take part in a st...          0.387219  \n",
       "2   Bias that arises from systematic differences i...          0.619102  \n",
       "3   A distortion that arises from the use of infor...          0.388663  \n",
       "4   Systematic differences in the care provided to...          0.470382  \n",
       "5   Bias that arises from systematic differences i...          0.416984  \n",
       "6   The presence of a person’s information in an e...          0.306489  \n",
       "7   The search for and use of information to suppo...          0.463255  \n",
       "8   A systematic distortion that arises from the s...          0.346583  \n",
       "9   A systematic distortion that arises from the s...          0.337394  \n",
       "10  A tendency for the methods and results of a st...          0.277571  \n",
       "11  The search for and use of information to suppo...          0.317746  \n",
       "12  The search for and use of information to suppo...          0.150740  \n",
       "13  Substitution of the clinically important endpo...          0.174939  \n",
       "14  A bias that occurs due to systematic differenc...          0.214001  \n",
       "15  Participants compliant with an intervention di...          0.312459  \n",
       "16  Systematic differences in the care provided to...          0.372035  \n",
       "17  A systematic distortion that arises from the s...          0.256202  \n",
       "18  Systematic differences in the care provided to...          0.286620  \n",
       "19  A tendency for the methods and results of a st...          0.208283  \n",
       "20  When authors restrict their references to only...          0.148993  \n",
       "21  A distortion arising from systemic, institutio...          0.246115  \n",
       "22  A distortion arising from systemic, institutio...          0.354830  \n",
       "23  The search for and use of information to suppo...          0.354193  \n",
       "24  Bias that arises from systematic differences i...          0.437466  \n",
       "25  Participants compliant with an intervention di...          0.321779  "
      ]
     },
     "execution_count": 7,
     "metadata": {},
     "output_type": "execute_result"
    }
   ],
   "source": [
    "results_df"
   ]
  },
  {
   "cell_type": "code",
   "execution_count": null,
   "metadata": {},
   "outputs": [],
   "source": []
  }
 ],
 "metadata": {
  "kernelspec": {
   "display_name": "venv",
   "language": "python",
   "name": "python3"
  },
  "language_info": {
   "codemirror_mode": {
    "name": "ipython",
    "version": 3
   },
   "file_extension": ".py",
   "mimetype": "text/x-python",
   "name": "python",
   "nbconvert_exporter": "python",
   "pygments_lexer": "ipython3",
   "version": "3.13.2"
  }
 },
 "nbformat": 4,
 "nbformat_minor": 2
}
